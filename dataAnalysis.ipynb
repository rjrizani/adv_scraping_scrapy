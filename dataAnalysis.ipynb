{
 "cells": [
  {
   "cell_type": "code",
   "execution_count": 2,
   "metadata": {
    "vscode": {
     "languageId": "markdown"
    }
   },
   "outputs": [
    {
     "name": "stderr",
     "output_type": "stream",
     "text": [
      "<>:4: SyntaxWarning: invalid escape sequence '\\o'\n",
      "<>:4: SyntaxWarning: invalid escape sequence '\\o'\n",
      "C:\\Users\\rjriz\\AppData\\Local\\Temp\\ipykernel_18512\\36043632.py:4: SyntaxWarning: invalid escape sequence '\\o'\n",
      "  df = pd.read_csv('iherb\\output.csv')\n"
     ]
    },
    {
     "data": {
      "text/html": [
       "<div>\n",
       "<style scoped>\n",
       "    .dataframe tbody tr th:only-of-type {\n",
       "        vertical-align: middle;\n",
       "    }\n",
       "\n",
       "    .dataframe tbody tr th {\n",
       "        vertical-align: top;\n",
       "    }\n",
       "\n",
       "    .dataframe thead th {\n",
       "        text-align: right;\n",
       "    }\n",
       "</style>\n",
       "<table border=\"1\" class=\"dataframe\">\n",
       "  <thead>\n",
       "    <tr style=\"text-align: right;\">\n",
       "      <th></th>\n",
       "      <th>title</th>\n",
       "      <th>price</th>\n",
       "      <th>product_description</th>\n",
       "      <th>product_overview</th>\n",
       "      <th>manufacturer</th>\n",
       "      <th>manufacturer_website</th>\n",
       "      <th>rating</th>\n",
       "      <th>total_rating</th>\n",
       "      <th>in_stock</th>\n",
       "      <th>img_url</th>\n",
       "      <th>data_scraped</th>\n",
       "    </tr>\n",
       "  </thead>\n",
       "  <tbody>\n",
       "    <tr>\n",
       "      <th>0</th>\n",
       "      <td>California Gold Nutrition, Gold C, USP Grade V...</td>\n",
       "      <td>7.86</td>\n",
       "      <td>\\n                100% authentic\\n            ...</td>\n",
       "      <td>\\n                    ,\\n                     ...</td>\n",
       "      <td>California Gold Nutrition</td>\n",
       "      <td>https://www.iherb.com/c/california-gold-nutrition</td>\n",
       "      <td>4.8</td>\n",
       "      <td>332171</td>\n",
       "      <td>True</td>\n",
       "      <td>https://cloudinary.images-iherb.com/image/uplo...</td>\n",
       "      <td>01 January 2025</td>\n",
       "    </tr>\n",
       "    <tr>\n",
       "      <th>1</th>\n",
       "      <td>California Gold Nutrition, Gold C, USP Grade V...</td>\n",
       "      <td>7.86</td>\n",
       "      <td>\\n                100% authentic\\n            ...</td>\n",
       "      <td>\\n                    ,\\n                     ...</td>\n",
       "      <td>California Gold Nutrition</td>\n",
       "      <td>https://www.iherb.com/c/california-gold-nutrition</td>\n",
       "      <td>4.8</td>\n",
       "      <td>332171</td>\n",
       "      <td>True</td>\n",
       "      <td>https://cloudinary.images-iherb.com/image/uplo...</td>\n",
       "      <td>01 January 2025</td>\n",
       "    </tr>\n",
       "    <tr>\n",
       "      <th>2</th>\n",
       "      <td>California Gold Nutrition, Gold C, USP Grade V...</td>\n",
       "      <td>7.86</td>\n",
       "      <td>\\n                100% authentic\\n            ...</td>\n",
       "      <td>\\n                    ,\\n                     ...</td>\n",
       "      <td>California Gold Nutrition</td>\n",
       "      <td>https://www.iherb.com/c/california-gold-nutrition</td>\n",
       "      <td>4.8</td>\n",
       "      <td>332171</td>\n",
       "      <td>True</td>\n",
       "      <td>https://cloudinary.images-iherb.com/image/uplo...</td>\n",
       "      <td>01 January 2025</td>\n",
       "    </tr>\n",
       "  </tbody>\n",
       "</table>\n",
       "</div>"
      ],
      "text/plain": [
       "                                               title  price  \\\n",
       "0  California Gold Nutrition, Gold C, USP Grade V...   7.86   \n",
       "1  California Gold Nutrition, Gold C, USP Grade V...   7.86   \n",
       "2  California Gold Nutrition, Gold C, USP Grade V...   7.86   \n",
       "\n",
       "                                 product_description  \\\n",
       "0  \\n                100% authentic\\n            ...   \n",
       "1  \\n                100% authentic\\n            ...   \n",
       "2  \\n                100% authentic\\n            ...   \n",
       "\n",
       "                                    product_overview  \\\n",
       "0  \\n                    ,\\n                     ...   \n",
       "1  \\n                    ,\\n                     ...   \n",
       "2  \\n                    ,\\n                     ...   \n",
       "\n",
       "                manufacturer  \\\n",
       "0  California Gold Nutrition   \n",
       "1  California Gold Nutrition   \n",
       "2  California Gold Nutrition   \n",
       "\n",
       "                                manufacturer_website  rating  total_rating  \\\n",
       "0  https://www.iherb.com/c/california-gold-nutrition     4.8        332171   \n",
       "1  https://www.iherb.com/c/california-gold-nutrition     4.8        332171   \n",
       "2  https://www.iherb.com/c/california-gold-nutrition     4.8        332171   \n",
       "\n",
       "   in_stock                                            img_url  \\\n",
       "0      True  https://cloudinary.images-iherb.com/image/uplo...   \n",
       "1      True  https://cloudinary.images-iherb.com/image/uplo...   \n",
       "2      True  https://cloudinary.images-iherb.com/image/uplo...   \n",
       "\n",
       "      data_scraped  \n",
       "0  01 January 2025  \n",
       "1  01 January 2025  \n",
       "2  01 January 2025  "
      ]
     },
     "execution_count": 2,
     "metadata": {},
     "output_type": "execute_result"
    }
   ],
   "source": [
    "import pandas as pd\n",
    "\n",
    "# Replace 'output.csv' with the path to your CSV file\n",
    "df = pd.read_csv('iherb\\output.csv')\n",
    "\n",
    "# Display the first few rows of the dataframe\n",
    "df.head()"
   ]
  },
  {
   "cell_type": "code",
   "execution_count": 8,
   "metadata": {
    "vscode": {
     "languageId": "markdown"
    }
   },
   "outputs": [
    {
     "data": {
      "text/html": [
       "<div>\n",
       "<style scoped>\n",
       "    .dataframe tbody tr th:only-of-type {\n",
       "        vertical-align: middle;\n",
       "    }\n",
       "\n",
       "    .dataframe tbody tr th {\n",
       "        vertical-align: top;\n",
       "    }\n",
       "\n",
       "    .dataframe thead th {\n",
       "        text-align: right;\n",
       "    }\n",
       "</style>\n",
       "<table border=\"1\" class=\"dataframe\">\n",
       "  <thead>\n",
       "    <tr style=\"text-align: right;\">\n",
       "      <th></th>\n",
       "      <th>title</th>\n",
       "      <th>price</th>\n",
       "      <th>product_description</th>\n",
       "      <th>product_overview</th>\n",
       "      <th>manufacturer</th>\n",
       "      <th>manufacturer_website</th>\n",
       "      <th>rating</th>\n",
       "      <th>total_rating</th>\n",
       "      <th>in_stock</th>\n",
       "      <th>img_url</th>\n",
       "      <th>data_scraped</th>\n",
       "    </tr>\n",
       "  </thead>\n",
       "  <tbody>\n",
       "    <tr>\n",
       "      <th>0</th>\n",
       "      <td>California Gold Nutrition, Gold C, USP Grade V...</td>\n",
       "      <td>7.86</td>\n",
       "      <td>\\n                100% authentic\\n            ...</td>\n",
       "      <td>,                        ,...</td>\n",
       "      <td>California Gold Nutrition</td>\n",
       "      <td>https://www.iherb.com/c/california-gold-nutrition</td>\n",
       "      <td>4.8</td>\n",
       "      <td>332171</td>\n",
       "      <td>True</td>\n",
       "      <td>https://cloudinary.images-iherb.com/image/uplo...</td>\n",
       "      <td>01 January 2025</td>\n",
       "    </tr>\n",
       "    <tr>\n",
       "      <th>1</th>\n",
       "      <td>California Gold Nutrition, Gold C, USP Grade V...</td>\n",
       "      <td>7.86</td>\n",
       "      <td>\\n                100% authentic\\n            ...</td>\n",
       "      <td>,                        ,...</td>\n",
       "      <td>California Gold Nutrition</td>\n",
       "      <td>https://www.iherb.com/c/california-gold-nutrition</td>\n",
       "      <td>4.8</td>\n",
       "      <td>332171</td>\n",
       "      <td>True</td>\n",
       "      <td>https://cloudinary.images-iherb.com/image/uplo...</td>\n",
       "      <td>01 January 2025</td>\n",
       "    </tr>\n",
       "    <tr>\n",
       "      <th>2</th>\n",
       "      <td>California Gold Nutrition, Gold C, USP Grade V...</td>\n",
       "      <td>7.86</td>\n",
       "      <td>\\n                100% authentic\\n            ...</td>\n",
       "      <td>,                        ,...</td>\n",
       "      <td>California Gold Nutrition</td>\n",
       "      <td>https://www.iherb.com/c/california-gold-nutrition</td>\n",
       "      <td>4.8</td>\n",
       "      <td>332171</td>\n",
       "      <td>True</td>\n",
       "      <td>https://cloudinary.images-iherb.com/image/uplo...</td>\n",
       "      <td>01 January 2025</td>\n",
       "    </tr>\n",
       "  </tbody>\n",
       "</table>\n",
       "</div>"
      ],
      "text/plain": [
       "                                               title  price  \\\n",
       "0  California Gold Nutrition, Gold C, USP Grade V...   7.86   \n",
       "1  California Gold Nutrition, Gold C, USP Grade V...   7.86   \n",
       "2  California Gold Nutrition, Gold C, USP Grade V...   7.86   \n",
       "\n",
       "                                 product_description  \\\n",
       "0  \\n                100% authentic\\n            ...   \n",
       "1  \\n                100% authentic\\n            ...   \n",
       "2  \\n                100% authentic\\n            ...   \n",
       "\n",
       "                                    product_overview  \\\n",
       "0                      ,                        ,...   \n",
       "1                      ,                        ,...   \n",
       "2                      ,                        ,...   \n",
       "\n",
       "                manufacturer  \\\n",
       "0  California Gold Nutrition   \n",
       "1  California Gold Nutrition   \n",
       "2  California Gold Nutrition   \n",
       "\n",
       "                                manufacturer_website  rating  total_rating  \\\n",
       "0  https://www.iherb.com/c/california-gold-nutrition     4.8        332171   \n",
       "1  https://www.iherb.com/c/california-gold-nutrition     4.8        332171   \n",
       "2  https://www.iherb.com/c/california-gold-nutrition     4.8        332171   \n",
       "\n",
       "   in_stock                                            img_url  \\\n",
       "0      True  https://cloudinary.images-iherb.com/image/uplo...   \n",
       "1      True  https://cloudinary.images-iherb.com/image/uplo...   \n",
       "2      True  https://cloudinary.images-iherb.com/image/uplo...   \n",
       "\n",
       "      data_scraped  \n",
       "0  01 January 2025  \n",
       "1  01 January 2025  \n",
       "2  01 January 2025  "
      ]
     },
     "execution_count": 8,
     "metadata": {},
     "output_type": "execute_result"
    }
   ],
   "source": [
    "\n",
    "df['product_overview'] = df['product_overview'].str.replace('\\n', '')\n",
    "df.head()\n"
   ]
  },
  {
   "cell_type": "code",
   "execution_count": 10,
   "metadata": {
    "vscode": {
     "languageId": "markdown"
    }
   },
   "outputs": [
    {
     "data": {
      "text/html": [
       "<div>\n",
       "<style scoped>\n",
       "    .dataframe tbody tr th:only-of-type {\n",
       "        vertical-align: middle;\n",
       "    }\n",
       "\n",
       "    .dataframe tbody tr th {\n",
       "        vertical-align: top;\n",
       "    }\n",
       "\n",
       "    .dataframe thead th {\n",
       "        text-align: right;\n",
       "    }\n",
       "</style>\n",
       "<table border=\"1\" class=\"dataframe\">\n",
       "  <thead>\n",
       "    <tr style=\"text-align: right;\">\n",
       "      <th></th>\n",
       "      <th>title</th>\n",
       "      <th>price</th>\n",
       "      <th>product_description</th>\n",
       "      <th>product_overview</th>\n",
       "      <th>manufacturer</th>\n",
       "      <th>manufacturer_website</th>\n",
       "      <th>rating</th>\n",
       "      <th>total_rating</th>\n",
       "      <th>in_stock</th>\n",
       "      <th>img_url</th>\n",
       "      <th>data_scraped</th>\n",
       "      <th>product_overview_list</th>\n",
       "    </tr>\n",
       "  </thead>\n",
       "  <tbody>\n",
       "    <tr>\n",
       "      <th>0</th>\n",
       "      <td>California Gold Nutrition, Gold C, USP Grade V...</td>\n",
       "      <td>7.86</td>\n",
       "      <td>\\n                100% authentic\\n            ...</td>\n",
       "      <td>,                        ,...</td>\n",
       "      <td>California Gold Nutrition</td>\n",
       "      <td>https://www.iherb.com/c/california-gold-nutrition</td>\n",
       "      <td>4.8</td>\n",
       "      <td>332171</td>\n",
       "      <td>True</td>\n",
       "      <td>https://cloudinary.images-iherb.com/image/uplo...</td>\n",
       "      <td>01 January 2025</td>\n",
       "      <td>[                    ,                        ...</td>\n",
       "    </tr>\n",
       "    <tr>\n",
       "      <th>1</th>\n",
       "      <td>California Gold Nutrition, Gold C, USP Grade V...</td>\n",
       "      <td>7.86</td>\n",
       "      <td>\\n                100% authentic\\n            ...</td>\n",
       "      <td>,                        ,...</td>\n",
       "      <td>California Gold Nutrition</td>\n",
       "      <td>https://www.iherb.com/c/california-gold-nutrition</td>\n",
       "      <td>4.8</td>\n",
       "      <td>332171</td>\n",
       "      <td>True</td>\n",
       "      <td>https://cloudinary.images-iherb.com/image/uplo...</td>\n",
       "      <td>01 January 2025</td>\n",
       "      <td>[                    ,                        ...</td>\n",
       "    </tr>\n",
       "    <tr>\n",
       "      <th>2</th>\n",
       "      <td>California Gold Nutrition, Gold C, USP Grade V...</td>\n",
       "      <td>7.86</td>\n",
       "      <td>\\n                100% authentic\\n            ...</td>\n",
       "      <td>,                        ,...</td>\n",
       "      <td>California Gold Nutrition</td>\n",
       "      <td>https://www.iherb.com/c/california-gold-nutrition</td>\n",
       "      <td>4.8</td>\n",
       "      <td>332171</td>\n",
       "      <td>True</td>\n",
       "      <td>https://cloudinary.images-iherb.com/image/uplo...</td>\n",
       "      <td>01 January 2025</td>\n",
       "      <td>[                    ,                        ...</td>\n",
       "    </tr>\n",
       "  </tbody>\n",
       "</table>\n",
       "</div>"
      ],
      "text/plain": [
       "                                               title  price  \\\n",
       "0  California Gold Nutrition, Gold C, USP Grade V...   7.86   \n",
       "1  California Gold Nutrition, Gold C, USP Grade V...   7.86   \n",
       "2  California Gold Nutrition, Gold C, USP Grade V...   7.86   \n",
       "\n",
       "                                 product_description  \\\n",
       "0  \\n                100% authentic\\n            ...   \n",
       "1  \\n                100% authentic\\n            ...   \n",
       "2  \\n                100% authentic\\n            ...   \n",
       "\n",
       "                                    product_overview  \\\n",
       "0                      ,                        ,...   \n",
       "1                      ,                        ,...   \n",
       "2                      ,                        ,...   \n",
       "\n",
       "                manufacturer  \\\n",
       "0  California Gold Nutrition   \n",
       "1  California Gold Nutrition   \n",
       "2  California Gold Nutrition   \n",
       "\n",
       "                                manufacturer_website  rating  total_rating  \\\n",
       "0  https://www.iherb.com/c/california-gold-nutrition     4.8        332171   \n",
       "1  https://www.iherb.com/c/california-gold-nutrition     4.8        332171   \n",
       "2  https://www.iherb.com/c/california-gold-nutrition     4.8        332171   \n",
       "\n",
       "   in_stock                                            img_url  \\\n",
       "0      True  https://cloudinary.images-iherb.com/image/uplo...   \n",
       "1      True  https://cloudinary.images-iherb.com/image/uplo...   \n",
       "2      True  https://cloudinary.images-iherb.com/image/uplo...   \n",
       "\n",
       "      data_scraped                              product_overview_list  \n",
       "0  01 January 2025  [                    ,                        ...  \n",
       "1  01 January 2025  [                    ,                        ...  \n",
       "2  01 January 2025  [                    ,                        ...  "
      ]
     },
     "execution_count": 10,
     "metadata": {},
     "output_type": "execute_result"
    }
   ],
   "source": [
    "\n",
    "df['product_overview_list'] = df['product_overview'].str.split(',')\n",
    "df.head()\n"
   ]
  },
  {
   "cell_type": "code",
   "execution_count": 22,
   "metadata": {
    "vscode": {
     "languageId": "markdown"
    }
   },
   "outputs": [
    {
     "name": "stdout",
     "output_type": "stream",
     "text": [
      "                    ,                        ,                            ,                                    ,                                        ,                                            ,                                                ,Description,                                            ,                                            ,Helps Support Immune Health and Overall Wellness* ,Suitable for Vegetarians,Formulated without Gluten, GMOs, or Soy,California Gold Nutrition® ,Gold C™ ,features 1000 mg of USP-Grade Vitamin C in veggie capsules. It is triple quality tested to ensure that it meets or exceeds strict quality standards.,​,iTested Verified,                                        ,                                    ,                                    ,                                        ,                                            ,                                                ,Suggested use,                                            ,                                            ,                                                ,Take 1 capsule daily, with or without food. Best when taken as directed by a qualified healthcare professional.,                                            ,                                        ,                                    ,                                    ,                                        ,                                            ,                                                ,Other ingredients,                                            ,                                            ,Main Ingredients,Vitamin C (as Ascorbic Acid) ,Other Ingredients,Modified Cellulose (Hypromellose Veggie Capsule) and Magnesium Stearate.,Not manufactured with milk, eggs, fish, crustacean shellfish, tree nuts, peanuts, wheat, soy, sesame, or gluten. Produced in an FDA-registered, third-party audited, and cGMP-compliant facility that may process other products that contain these allergens or ingredients.,                                        ,                                    ,                                    ,                                        ,                                            ,                                                ,Warnings,                                            ,                                            ,Keep out of the reach of children. ,Consult with a licensed physician, pharmacist, naturopath or other qualified healthcare professional prior to taking dietary supplements. ,Sealed for your protection. Do not use if seal is missing or broken. Store in a cool, dry place. Protect from heat, light, and moisture.,Aroma, color, and consistency may vary. Color shift is normal and cannot be avoided.,                                        ,                                    ,                                ,                                    ,                                        ,                                            ,Disclaimer,                                        ,                                        ,                                            ,While iHerb strives to ensure the accuracy of its product images and information, some manufacturing changes to packaging and/or ingredients may be pending update on our site. Although items may occasionally ship with alternate packaging, freshness is always guaranteed. We recommend that you read labels, warnings and directions of all products before use and not rely solely on the information provided by iHerb.,                                        ,                                    ,                                ,                                ,                                    ,,,Visit manufacturer's website,,,,,,                                ,                            ,                                ,                                    ,                                        ,Supplement facts,Serving Size:, 1 Capsule,Servings Per Container:, 60,Amount Per Serving,%Daily Value,Vitamin C (as Ascorbic Acid),1,000 mg,1,111%,                                    ,                                ,                        ,                        ,                            ,,,Visit manufacturer's website,,,,,,                        ,                    ,                \n"
     ]
    }
   ],
   "source": [
    "x = df['product_overview'][0]\n",
    "print(x)\n"
   ]
  },
  {
   "cell_type": "code",
   "execution_count": 25,
   "metadata": {},
   "outputs": [
    {
     "name": "stdout",
     "output_type": "stream",
     "text": [
      "                                    product_overview  \\\n",
      "0  \\n                    ,\\n                     ...   \n",
      "1  \\n                    ,\\n                     ...   \n",
      "2  \\n                    ,\\n                     ...   \n",
      "\n",
      "                                         description  \n",
      "0  ,\\n                                           ...  \n",
      "1  ,\\n                                           ...  \n",
      "2  ,\\n                                           ...  \n"
     ]
    }
   ],
   "source": [
    "import pandas as pd\n",
    "\n",
    "# Load the CSV file\n",
    "df = pd.read_csv(r'iherb/output.csv')  # Use raw string for file path to avoid SyntaxWarning\n",
    "\n",
    "# Define a function to extract the description from the 'product_overview' column\n",
    "def extract_description(text):\n",
    "    if pd.isnull(text):\n",
    "        return None\n",
    "    # Split the content based on known structure\n",
    "    if \"Description\" in text:\n",
    "        try:\n",
    "            # Extract text between \"Description\" and \"Suggested use\"\n",
    "            start = text.index(\"Description,\") + len(\"Description,\")\n",
    "            end = text.index(\"Suggested use,\")\n",
    "            return text[start:end].strip()\n",
    "        except ValueError:\n",
    "            return None\n",
    "    return None\n",
    "\n",
    "# Apply the extraction function to the DataFrame\n",
    "df['description'] = df['product_overview'].apply(extract_description)\n",
    "\n",
    "# Display the results\n",
    "print(df[['product_overview', 'description']])\n"
   ]
  },
  {
   "cell_type": "code",
   "execution_count": 24,
   "metadata": {
    "vscode": {
     "languageId": "markdown"
    }
   },
   "outputs": [
    {
     "ename": "NameError",
     "evalue": "name 'dtype' is not defined",
     "output_type": "error",
     "traceback": [
      "\u001b[1;31m---------------------------------------------------------------------------\u001b[0m",
      "\u001b[1;31mNameError\u001b[0m                                 Traceback (most recent call last)",
      "Cell \u001b[1;32mIn[24], line 1\u001b[0m\n\u001b[1;32m----> 1\u001b[0m \u001b[43mdtype\u001b[49m(x)\n",
      "\u001b[1;31mNameError\u001b[0m: name 'dtype' is not defined"
     ]
    }
   ],
   "source": [
    "x[]"
   ]
  },
  {
   "cell_type": "code",
   "execution_count": 19,
   "metadata": {
    "vscode": {
     "languageId": "markdown"
    }
   },
   "outputs": [
    {
     "data": {
      "text/plain": [
       "'H'"
      ]
     },
     "execution_count": 19,
     "metadata": {},
     "output_type": "execute_result"
    }
   ],
   "source": [
    "df['product_overview'][0][349]"
   ]
  }
 ],
 "metadata": {
  "kernelspec": {
   "display_name": ".venv",
   "language": "python",
   "name": "python3"
  },
  "language_info": {
   "codemirror_mode": {
    "name": "ipython",
    "version": 3
   },
   "file_extension": ".py",
   "mimetype": "text/x-python",
   "name": "python",
   "nbconvert_exporter": "python",
   "pygments_lexer": "ipython3",
   "version": "3.12.0"
  }
 },
 "nbformat": 4,
 "nbformat_minor": 2
}
